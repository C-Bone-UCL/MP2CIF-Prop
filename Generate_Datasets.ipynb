{
 "cells": [
  {
   "cell_type": "code",
   "execution_count": 9,
   "metadata": {},
   "outputs": [
    {
     "name": "stdout",
     "output_type": "stream",
     "text": [
      "/home/uccacbo/miniconda3/envs/data_gen_venv/lib/python3.12/site-packages/pymatgen/ext/matproj_legacy.py:168: UserWarning: You are using the legacy MPRester. This version of the MPRester will no longer be updated. To access the latest data with the new MPRester, obtain a new API key from https://materialsproject.org/api and consult the docs at https://docs.materialsproject.org/ for more information.\n",
      "  warnings.warn(\n",
      "100%|█████████████████████████████████| 126335/126335 [01:37<00:00, 1300.94it/s]\n",
      "100%|█████████████████████████████████████████████| 5/5 [00:03<00:00,  1.28it/s]\n"
     ]
    }
   ],
   "source": [
    "!python script.py --api_key cQWiFl8rwJqVI1o0 --size 5 --output_dir ./example_output"
   ]
  },
  {
   "cell_type": "code",
   "execution_count": 26,
   "metadata": {},
   "outputs": [
    {
     "name": "stdout",
     "output_type": "stream",
     "text": [
      "# MP Entry mp-1008492 BrCl\n",
      "# generated using pymatgen\n",
      "data_BrCl\n",
      "_symmetry_space_group_name_H-M   'P 1'\n",
      "_cell_length_a   4.64594705\n",
      "_cell_length_b   4.64594705\n",
      "_cell_length_c   7.81070100\n",
      "_cell_angle_alpha   90.00000000\n",
      "_cell_angle_beta   90.00000000\n",
      "_cell_angle_gamma   115.94818905\n",
      "_symmetry_Int_Tables_number   1\n",
      "_chemical_formula_structural   BrCl\n",
      "_chemical_formula_sum   'Br2 Cl2'\n",
      "_cell_volume   151.59680010\n",
      "_cell_formula_units_Z   2\n",
      "loop_\n",
      " _symmetry_equiv_pos_site_id\n",
      " _symmetry_equiv_pos_as_xyz\n",
      "  1  'x, y, z'\n",
      "loop_\n",
      " _atom_site_type_symbol\n",
      " _atom_site_label\n",
      " _atom_site_symmetry_multiplicity\n",
      " _atom_site_fract_x\n",
      " _atom_site_fract_y\n",
      " _atom_site_fract_z\n",
      " _atom_site_occupancy\n",
      "  Br  Br0  1  0.00000000  0.00000000  0.00000000  1\n",
      "  Br  Br1  1  0.00000000  0.00000000  0.50000000  1\n",
      "  Cl  Cl2  1  0.71335200  0.71335200  0.25000000  1\n",
      "  Cl  Cl3  1  0.28664800  0.28664800  0.75000000  1\n",
      "\n",
      "Bandgap eV 1.828\n"
     ]
    }
   ],
   "source": [
    "# open the output .cif file with a text editor\n",
    "!cat ./example_output/BrCl_mp-1008492.cif\n"
   ]
  },
  {
   "cell_type": "code",
   "execution_count": 10,
   "metadata": {},
   "outputs": [
    {
     "name": "stdout",
     "output_type": "stream",
     "text": [
      "/home/uccacbo/miniconda3/envs/data_gen_venv/lib/python3.12/site-packages/pymatgen/ext/matproj_legacy.py:168: UserWarning: You are using the legacy MPRester. This version of the MPRester will no longer be updated. To access the latest data with the new MPRester, obtain a new API key from https://materialsproject.org/api and consult the docs at https://docs.materialsproject.org/ for more information.\n",
      "  warnings.warn(\n",
      "100%|█████████████████████████████████| 126335/126335 [01:24<00:00, 1492.68it/s]\n",
      "100%|█████████████████████████████████████████████| 5/5 [00:01<00:00,  2.76it/s]\n",
      "Data saved to ./example_table_output/materials_data.pkl\n"
     ]
    }
   ],
   "source": [
    "!python gen_cif_table.py --api_key cQWiFl8rwJqVI1o0 --size 5 --output_dir ./example_table_output"
   ]
  },
  {
   "cell_type": "code",
   "execution_count": null,
   "metadata": {},
   "outputs": [
    {
     "data": {
      "text/html": [
       "<div>\n",
       "<style scoped>\n",
       "    .dataframe tbody tr th:only-of-type {\n",
       "        vertical-align: middle;\n",
       "    }\n",
       "\n",
       "    .dataframe tbody tr th {\n",
       "        vertical-align: top;\n",
       "    }\n",
       "\n",
       "    .dataframe thead th {\n",
       "        text-align: right;\n",
       "    }\n",
       "</style>\n",
       "<table border=\"1\" class=\"dataframe\">\n",
       "  <thead>\n",
       "    <tr style=\"text-align: right;\">\n",
       "      <th></th>\n",
       "      <th>Database</th>\n",
       "      <th>Reduced Formula</th>\n",
       "      <th>CIF</th>\n",
       "    </tr>\n",
       "  </thead>\n",
       "  <tbody>\n",
       "    <tr>\n",
       "      <th>0</th>\n",
       "      <td>MP</td>\n",
       "      <td>ZrB6</td>\n",
       "      <td># MP Entry mp-1001788 ZrB6\\n# generated using ...</td>\n",
       "    </tr>\n",
       "    <tr>\n",
       "      <th>1</th>\n",
       "      <td>MP</td>\n",
       "      <td>SiC</td>\n",
       "      <td># MP Entry mp-1002206 SiC\\n# generated using p...</td>\n",
       "    </tr>\n",
       "    <tr>\n",
       "      <th>2</th>\n",
       "      <td>MP</td>\n",
       "      <td>HPbI3</td>\n",
       "      <td># MP Entry mp-1004524 HPbI3\\n# generated using...</td>\n",
       "    </tr>\n",
       "    <tr>\n",
       "      <th>3</th>\n",
       "      <td>MP</td>\n",
       "      <td>BrCl</td>\n",
       "      <td># MP Entry mp-1008492 BrCl\\n# generated using ...</td>\n",
       "    </tr>\n",
       "    <tr>\n",
       "      <th>4</th>\n",
       "      <td>MP</td>\n",
       "      <td>EuFeO3</td>\n",
       "      <td># MP Entry mp-1011260 EuFeO3\\n# generated usin...</td>\n",
       "    </tr>\n",
       "  </tbody>\n",
       "</table>\n",
       "</div>"
      ],
      "text/plain": [
       "  Database Reduced Formula                                                CIF\n",
       "0       MP            ZrB6  # MP Entry mp-1001788 ZrB6\\n# generated using ...\n",
       "1       MP             SiC  # MP Entry mp-1002206 SiC\\n# generated using p...\n",
       "2       MP           HPbI3  # MP Entry mp-1004524 HPbI3\\n# generated using...\n",
       "3       MP            BrCl  # MP Entry mp-1008492 BrCl\\n# generated using ...\n",
       "4       MP          EuFeO3  # MP Entry mp-1011260 EuFeO3\\n# generated usin..."
      ]
     },
     "execution_count": 12,
     "metadata": {},
     "output_type": "execute_result"
    }
   ],
   "source": [
    "import pickle\n",
    "import pandas as pd\n",
    "with open('./example_table_output/materials_data.pkl', 'rb') as f:\n",
    "    data = pickle.load(f)\n",
    "df = pd.DataFrame(data)\n",
    "df"
   ]
  },
  {
   "cell_type": "code",
   "execution_count": 15,
   "metadata": {},
   "outputs": [
    {
     "name": "stdout",
     "output_type": "stream",
     "text": [
      "Loading the full database...\n",
      "Filtering for 'MP' database entries...\n",
      "Selecting 5 entries...\n",
      "Adding 'Bandgap (eV)' column by querying Materials Project...\n",
      "/home/uccacbo/miniconda3/envs/data_gen_venv/lib/python3.12/site-packages/pymatgen/ext/matproj_legacy.py:168: UserWarning: You are using the legacy MPRester. This version of the MPRester will no longer be updated. To access the latest data with the new MPRester, obtain a new API key from https://materialsproject.org/api and consult the docs at https://docs.materialsproject.org/ for more information.\n",
      "  warnings.warn(\n",
      "Processing materials: 100%|███████████████████████| 5/5 [00:06<00:00,  1.23s/it]\n",
      "Saving the updated database to 'example_table_output/CIFs_db_MP.pkl'...\n",
      "Process completed successfully.\n"
     ]
    }
   ],
   "source": [
    "!python gen_cif_prop_table.py --api_key cQWiFl8rwJqVI1o0 --size 5 --input_file example_table_output/materials_data.pkl --output_file example_table_output/CIFs_db_MP.pkl"
   ]
  },
  {
   "cell_type": "code",
   "execution_count": 16,
   "metadata": {},
   "outputs": [
    {
     "data": {
      "text/html": [
       "<div>\n",
       "<style scoped>\n",
       "    .dataframe tbody tr th:only-of-type {\n",
       "        vertical-align: middle;\n",
       "    }\n",
       "\n",
       "    .dataframe tbody tr th {\n",
       "        vertical-align: top;\n",
       "    }\n",
       "\n",
       "    .dataframe thead th {\n",
       "        text-align: right;\n",
       "    }\n",
       "</style>\n",
       "<table border=\"1\" class=\"dataframe\">\n",
       "  <thead>\n",
       "    <tr style=\"text-align: right;\">\n",
       "      <th></th>\n",
       "      <th>Database</th>\n",
       "      <th>Reduced Formula</th>\n",
       "      <th>CIF</th>\n",
       "      <th>Bandgap (eV)</th>\n",
       "    </tr>\n",
       "  </thead>\n",
       "  <tbody>\n",
       "    <tr>\n",
       "      <th>0</th>\n",
       "      <td>MP</td>\n",
       "      <td>ZrB6</td>\n",
       "      <td># MP Entry mp-1001788 ZrB6\\n# generated using ...</td>\n",
       "      <td>0.000</td>\n",
       "    </tr>\n",
       "    <tr>\n",
       "      <th>1</th>\n",
       "      <td>MP</td>\n",
       "      <td>SiC</td>\n",
       "      <td># MP Entry mp-1002206 SiC\\n# generated using p...</td>\n",
       "      <td>0.000</td>\n",
       "    </tr>\n",
       "    <tr>\n",
       "      <th>2</th>\n",
       "      <td>MP</td>\n",
       "      <td>HPbI3</td>\n",
       "      <td># MP Entry mp-1004524 HPbI3\\n# generated using...</td>\n",
       "      <td>0.000</td>\n",
       "    </tr>\n",
       "    <tr>\n",
       "      <th>3</th>\n",
       "      <td>MP</td>\n",
       "      <td>BrCl</td>\n",
       "      <td># MP Entry mp-1008492 BrCl\\n# generated using ...</td>\n",
       "      <td>1.828</td>\n",
       "    </tr>\n",
       "    <tr>\n",
       "      <th>4</th>\n",
       "      <td>MP</td>\n",
       "      <td>EuFeO3</td>\n",
       "      <td># MP Entry mp-1011260 EuFeO3\\n# generated usin...</td>\n",
       "      <td>0.000</td>\n",
       "    </tr>\n",
       "  </tbody>\n",
       "</table>\n",
       "</div>"
      ],
      "text/plain": [
       "  Database Reduced Formula                                                CIF  \\\n",
       "0       MP            ZrB6  # MP Entry mp-1001788 ZrB6\\n# generated using ...   \n",
       "1       MP             SiC  # MP Entry mp-1002206 SiC\\n# generated using p...   \n",
       "2       MP           HPbI3  # MP Entry mp-1004524 HPbI3\\n# generated using...   \n",
       "3       MP            BrCl  # MP Entry mp-1008492 BrCl\\n# generated using ...   \n",
       "4       MP          EuFeO3  # MP Entry mp-1011260 EuFeO3\\n# generated usin...   \n",
       "\n",
       "   Bandgap (eV)  \n",
       "0         0.000  \n",
       "1         0.000  \n",
       "2         0.000  \n",
       "3         1.828  \n",
       "4         0.000  "
      ]
     },
     "execution_count": 16,
     "metadata": {},
     "output_type": "execute_result"
    }
   ],
   "source": [
    "import pickle\n",
    "import pandas as pd\n",
    "with open('example_table_output/CIFs_db_MP.pkl', 'rb') as f:\n",
    "    data = pickle.load(f)\n",
    "df = pd.DataFrame(data)\n",
    "df"
   ]
  },
  {
   "cell_type": "code",
   "execution_count": null,
   "metadata": {},
   "outputs": [],
   "source": []
  }
 ],
 "metadata": {
  "kernelspec": {
   "display_name": "data_gen_venv",
   "language": "python",
   "name": "python3"
  },
  "language_info": {
   "codemirror_mode": {
    "name": "ipython",
    "version": 3
   },
   "file_extension": ".py",
   "mimetype": "text/x-python",
   "name": "python",
   "nbconvert_exporter": "python",
   "pygments_lexer": "ipython3",
   "version": "3.12.7"
  }
 },
 "nbformat": 4,
 "nbformat_minor": 2
}
